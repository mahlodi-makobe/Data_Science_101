{
  "nbformat": 4,
  "nbformat_minor": 0,
  "metadata": {
    "colab": {
      "provenance": [],
      "authorship_tag": "ABX9TyM1TaaWm5yPt7iDbz23iClz",
      "include_colab_link": true
    },
    "kernelspec": {
      "name": "ir",
      "display_name": "R"
    },
    "language_info": {
      "name": "R"
    }
  },
  "cells": [
    {
      "cell_type": "markdown",
      "metadata": {
        "id": "view-in-github",
        "colab_type": "text"
      },
      "source": [
        "<a href=\"https://colab.research.google.com/github/mahlodi-makobe/Data_Science_101/blob/R-Notebooks/DS_101_R.ipynb\" target=\"_parent\"><img src=\"https://colab.research.google.com/assets/colab-badge.svg\" alt=\"Open In Colab\"/></a>"
      ]
    },
    {
      "cell_type": "markdown",
      "source": [
        "# DS_101_R: Data Science Lifecycle with Logistic Regression"
      ],
      "metadata": {
        "id": "l2i_V3MIzFyI"
      }
    },
    {
      "cell_type": "markdown",
      "source": [
        "## Introduction\n",
        "\n",
        "Welcome to DS_101_R, a beginner-friendly notebook designed to guide you through the complete Data Science Lifecycle using the R programming language and the well-known Iris dataset. Our goal is to predict the species of Iris flowers (specifically setosa, versicolor, and virginica) based on their petal measurements. We will systematically cover all six essential phases: Problem Formulation, Data Collection, Data Preprocessing, Exploratory Data Analysis (EDA), Modeling, and finally, Evaluation and Deployment. By utilizing powerful R libraries such as dplyr for data manipulation, ggplot2 for visualization, and nnet for neural network modeling (including multinomial logistic regression), this notebook is part of a broader GitHub course tailored for learners with a background in mathematics and statistics. By executing the code cells within Google Colab's R runtime, you will observe insightful outputs like scatterplots and the model's prediction accuracy. For a more comprehensive understanding of the overall context, please refer to the \"Data Science Lifecycle for Beginners\" document. Let's begin our exploration of the data science lifecycle!"
      ],
      "metadata": {
        "id": "hbzqeVgbzIxc"
      }
    },
    {
      "cell_type": "markdown",
      "source": [
        "## Phase 1: Problem Formulation\n",
        "\n",
        "In the Problem Formulation phase, we clearly define the central question we aim to answer: Can we accurately predict the species of an Iris flower using only its petal length and width measurements? To gain an initial understanding of the data, the code calculates the mean and variance of petal length for each of the three Iris species. This initial statistical analysis reveals distinct patterns; for instance, setosa flowers tend to have an average petal length of approximately 1.46 cm, while virginica flowers typically exhibit a larger average of around 5.55 cm. This crucial step draws upon the principles of hypothesis testing to confirm that petal measurements are likely to be strong predictors for this classification task. Our primary metric for evaluating the success of our predictive model will be its overall accuracy."
      ],
      "metadata": {
        "id": "u-2Oo8bNzLK7"
      }
    },
    {
      "cell_type": "code",
      "execution_count": null,
      "metadata": {
        "colab": {
          "base_uri": "https://localhost:8080/"
        },
        "id": "H7vnKJWskGSm",
        "outputId": "9138689e-acdd-47cb-cb9a-b00c7d16dd30"
      },
      "outputs": [
        {
          "output_type": "stream",
          "name": "stderr",
          "text": [
            "Loading required package: dplyr\n",
            "\n",
            "\n",
            "Attaching package: ‘dplyr’\n",
            "\n",
            "\n",
            "The following objects are masked from ‘package:stats’:\n",
            "\n",
            "    filter, lag\n",
            "\n",
            "\n",
            "The following objects are masked from ‘package:base’:\n",
            "\n",
            "    intersect, setdiff, setequal, union\n",
            "\n",
            "\n"
          ]
        },
        {
          "output_type": "stream",
          "name": "stdout",
          "text": [
            "\u001b[90m# A tibble: 3 × 3\u001b[39m\n",
            "  Species    mean_petal_length variance_petal_length\n",
            "  \u001b[3m\u001b[90m<fct>\u001b[39m\u001b[23m                  \u001b[3m\u001b[90m<dbl>\u001b[39m\u001b[23m                 \u001b[3m\u001b[90m<dbl>\u001b[39m\u001b[23m\n",
            "\u001b[90m1\u001b[39m setosa                  1.46                0.030\u001b[4m2\u001b[24m\n",
            "\u001b[90m2\u001b[39m versicolor              4.26                0.221 \n",
            "\u001b[90m3\u001b[39m virginica               5.55                0.305 \n"
          ]
        }
      ],
      "source": [
        "# Install dplyr if not already installed\n",
        "if (!require(dplyr)) install.packages(\"dplyr\")\n",
        "\n",
        "# Load Iris dataset and calculate mean/variance of petal length by species\n",
        "data(iris)\n",
        "# Group by species and summarize\n",
        "library(dplyr)\n",
        "stats <- iris %>%\n",
        "  group_by(Species) %>%\n",
        "  summarise(\n",
        "    mean_petal_length = mean(Petal.Length),\n",
        "    variance_petal_length = var(Petal.Length)\n",
        "  )\n",
        "print(stats)"
      ]
    },
    {
      "cell_type": "markdown",
      "source": [
        "## Phase 2: Data Collection\n",
        "\n",
        "The Data Collection phase is dedicated to the process of gathering representative data for our predictor variables (petal length and width) and the response variable (species). The provided R code strategically samples 30 rows from the Iris dataset, ensuring an equal representation of each of the three species (10 samples per species). This balanced sampling strategy is essential to prevent any potential bias towards a particular species in our subsequent analysis and model building. This step effectively applies the fundamental concepts of random and stratified sampling, which are likely familiar from basic probability theory, to construct a fair and representative dataset suitable for further exploration and model training."
      ],
      "metadata": {
        "id": "BI3HL-DZzRyu"
      }
    },
    {
      "cell_type": "code",
      "source": [
        "# Install dplyr if not already installed\n",
        "if (!require(dplyr)) install.packages(\"dplyr\")\n",
        "\n",
        "# Randomly sample 30 rows from Iris, stratified by species\n",
        "set.seed(123) # For reproducibility\n",
        "library(dplyr)\n",
        "sample_data <- iris %>%\n",
        "  group_by(Species) %>%\n",
        "  slice_sample(n=10) # 10 per species\n",
        "print(head(sample_data))"
      ],
      "metadata": {
        "colab": {
          "base_uri": "https://localhost:8080/"
        },
        "id": "A9zsHCiNkdil",
        "outputId": "879b08fd-f1f7-4ffc-cbd8-c7e0b8e582e7"
      },
      "execution_count": null,
      "outputs": [
        {
          "output_type": "stream",
          "name": "stdout",
          "text": [
            "\u001b[90m# A tibble: 6 × 5\u001b[39m\n",
            "\u001b[90m# Groups:   Species [1]\u001b[39m\n",
            "  Sepal.Length Sepal.Width Petal.Length Petal.Width Species\n",
            "         \u001b[3m\u001b[90m<dbl>\u001b[39m\u001b[23m       \u001b[3m\u001b[90m<dbl>\u001b[39m\u001b[23m        \u001b[3m\u001b[90m<dbl>\u001b[39m\u001b[23m       \u001b[3m\u001b[90m<dbl>\u001b[39m\u001b[23m \u001b[3m\u001b[90m<fct>\u001b[39m\u001b[23m  \n",
            "\u001b[90m1\u001b[39m          4.8         3.1          1.6         0.2 setosa \n",
            "\u001b[90m2\u001b[39m          5.8         4            1.2         0.2 setosa \n",
            "\u001b[90m3\u001b[39m          4.3         3            1.1         0.1 setosa \n",
            "\u001b[90m4\u001b[39m          4.7         3.2          1.3         0.2 setosa \n",
            "\u001b[90m5\u001b[39m          4.5         2.3          1.3         0.3 setosa \n",
            "\u001b[90m6\u001b[39m          4.4         3.2          1.3         0.2 setosa \n"
          ]
        }
      ]
    },
    {
      "cell_type": "markdown",
      "source": [
        "## Phase 3: Data Preprocessing\n",
        "\n",
        "The Data Preprocessing phase focuses on cleaning and preparing the collected data to ensure its quality and suitability for analysis and modeling. The R code addresses a simulated scenario involving a missing value in petal length by employing mean imputation, replacing the missing value with the average petal length calculated across all available samples (approximately 3.76 cm). Furthermore, to ensure that our predictor variables are on a comparable scale, both petal length and width are standardized to have a mean of 0 and a variance of 1. This standardization is achieved using the formula $\\(z = \\frac{x - \\mu}{\\sigma}\\)$. By applying mean imputation and standardization, this critical phase ensures that the dataset is consistent, handles potential data quality issues, and is appropriately scaled, thereby preparing it for the subsequent modeling stage."
      ],
      "metadata": {
        "id": "uRaSjFovzYdg"
      }
    },
    {
      "cell_type": "code",
      "source": [
        "# Install dplyr if not already installed\n",
        "if (!require(dplyr)) install.packages(\"dplyr\")\n",
        "\n",
        "# Simulate missing values and preprocess\n",
        "set.seed(123)\n",
        "data(iris)\n",
        "iris_missing <- iris\n",
        "iris_missing$Petal.Length[sample(1:150, 10)] <- NA # 10 missing values\n",
        "\n",
        "# Impute with mean\n",
        "iris_missing$Petal.Length[is.na(iris_missing$Petal.Length)] <- mean(iris_missing$Petal.Length, na.rm=TRUE)\n",
        "\n",
        "# Standardize petal length and width\n",
        "iris_missing$Scaled_Petal_Length <- scale(iris_missing$Petal.Length)\n",
        "iris_missing$Scaled_Petal_Width <- scale(iris_missing$Petal.Width)\n",
        "\n",
        "print(head(iris_missing))"
      ],
      "metadata": {
        "colab": {
          "base_uri": "https://localhost:8080/"
        },
        "id": "D1GZgWP6kmJA",
        "outputId": "389dc33a-c7e0-44f2-fe09-3edb5db5ec8f"
      },
      "execution_count": null,
      "outputs": [
        {
          "output_type": "stream",
          "name": "stdout",
          "text": [
            "  Sepal.Length Sepal.Width Petal.Length Petal.Width Species Scaled_Petal_Length\n",
            "1          5.1         3.5          1.4         0.2  setosa           -1.382284\n",
            "2          4.9         3.0          1.4         0.2  setosa           -1.382284\n",
            "3          4.7         3.2          1.3         0.2  setosa           -1.441140\n",
            "4          4.6         3.1          1.5         0.2  setosa           -1.323427\n",
            "5          5.0         3.6          1.4         0.2  setosa           -1.382284\n",
            "6          5.4         3.9          1.7         0.4  setosa           -1.205715\n",
            "  Scaled_Petal_Width\n",
            "1          -1.311052\n",
            "2          -1.311052\n",
            "3          -1.311052\n",
            "4          -1.311052\n",
            "5          -1.311052\n",
            "6          -1.048667\n"
          ]
        }
      ]
    },
    {
      "cell_type": "markdown",
      "source": [
        "## Phase 4: Exploratory Data Analysis (EDA)\n",
        "\n",
        "Exploratory Data Analysis (EDA) involves the visual exploration and summarization of the dataset to uncover underlying patterns, relationships, and potential anomalies. The R code generates a scatterplot using ggplot2, displaying petal length on one axis and petal width on the other, with each data point colored according to its corresponding Iris species. This visual representation clearly reveals distinct clusters of data points for each species (for example, setosa flowers tend to have smaller petal dimensions compared to the others). This step further utilizes descriptive statistics and correlation analysis to validate the initial understanding that petal measurements can effectively differentiate between the Iris species, providing valuable visual evidence that supports the choice of these predictors for our classification task."
      ],
      "metadata": {
        "id": "z27J8iJ-zbFy"
      }
    },
    {
      "cell_type": "code",
      "source": [
        "# Install ggplot2 if not already installed\n",
        "if (!require(ggplot2)) install.packages(\"ggplot2\")\n",
        "\n",
        "# Scatterplot of petal length vs. width by species\n",
        "library(ggplot2)\n",
        "data(iris)\n",
        "ggplot(iris, aes(x=Petal.Length, y=Petal.Width, color=Species)) +\n",
        "  geom_point() +\n",
        "  labs(title=\"Petal Length vs. Width by Species\")"
      ],
      "metadata": {
        "colab": {
          "base_uri": "https://localhost:8080/",
          "height": 472
        },
        "id": "9UvufO_Ik3ld",
        "outputId": "e9962a34-bfa5-4b04-8105-d3b08ca946eb"
      },
      "execution_count": null,
      "outputs": [
        {
          "output_type": "stream",
          "name": "stderr",
          "text": [
            "Loading required package: ggplot2\n",
            "\n"
          ]
        },
        {
          "output_type": "display_data",
          "data": {
            "text/plain": [
              "plot without title"
            ],
            "image/png": "[encoded data removed]"
          },
          "metadata": {
            "image/png": {
              "width": 420,
              "height": 420
            }
          }
        }
      ]
    },
    {
      "cell_type": "markdown",
      "source": [
        "## Phase 5: Modeling\n",
        "\n",
        "The Modeling phase involves training a machine learning algorithm to learn the complex relationships between the petal measurements and the Iris species, enabling it to predict the species of new, unseen flowers. The R code utilizes the `multinom` function from the `nnet` library to train a multinomial logistic regression model. This model is trained on the petal length and width features to predict the probabilities of a given flower belonging to each of the three species. The output of the model shows very high confidence scores for certain samples (e.g., a probability of approximately 0.99999 for the first sample belonging to a specific species) and a relatively low log-loss value (10.29). The low log-loss indicates that the model has learned the relationships effectively, using optimization techniques that are fundamentally linked to probability theory and aim to minimize the prediction error."
      ],
      "metadata": {
        "id": "M3u_mEzIze-W"
      }
    },
    {
      "cell_type": "code",
      "source": [
        "# Install nnet for multinomial logistic regression\n",
        "if (!require(nnet)) install.packages(\"nnet\")\n",
        "\n",
        "# Load Iris dataset\n",
        "data(iris)\n",
        "# Use petal length and width\n",
        "model_data <- iris[, c(\"Petal.Length\", \"Petal.Width\", \"Species\")]\n",
        "\n",
        "# Train multinomial logistic regression\n",
        "library(nnet)\n",
        "model <- multinom(Species ~ Petal.Length + Petal.Width, data=model_data)\n",
        "\n",
        "# Predict probabilities\n",
        "predictions <- predict(model, model_data, type=\"probs\")\n",
        "print(head(predictions))"
      ],
      "metadata": {
        "colab": {
          "base_uri": "https://localhost:8080/"
        },
        "id": "rxkrVjGNlR95",
        "outputId": "447fca70-a504-481d-db4f-8a8b154c36ff"
      },
      "execution_count": null,
      "outputs": [
        {
          "output_type": "stream",
          "name": "stderr",
          "text": [
            "Loading required package: nnet\n",
            "\n"
          ]
        },
        {
          "output_type": "stream",
          "name": "stdout",
          "text": [
            "# weights:  12 (6 variable)\n",
            "initial  value 164.791843 \n",
            "iter  10 value 12.657828\n",
            "iter  20 value 10.374056\n",
            "iter  30 value 10.330881\n",
            "iter  40 value 10.306926\n",
            "iter  50 value 10.300057\n",
            "iter  60 value 10.296452\n",
            "iter  70 value 10.294046\n",
            "iter  80 value 10.292029\n",
            "iter  90 value 10.291154\n",
            "iter 100 value 10.289505\n",
            "final  value 10.289505 \n",
            "stopped after 100 iterations\n",
            "     setosa   versicolor    virginica\n",
            "1 0.9999902 9.791010e-06 6.601928e-21\n",
            "2 0.9999902 9.791010e-06 6.601928e-21\n",
            "3 0.9999951 4.900550e-06 1.863852e-21\n",
            "4 0.9999804 1.956177e-05 2.338449e-20\n",
            "5 0.9999902 9.791010e-06 6.601928e-21\n",
            "6 0.9996227 3.773459e-04 1.130908e-17\n"
          ]
        }
      ]
    },
    {
      "cell_type": "markdown",
      "source": [
        "## Phase 6: Evaluation and Deployment\n",
        "\n",
        "The Evaluation and Deployment phase focuses on rigorously assessing the trained model's performance on data it has not seen before and considering the practical aspects of its real-world application. The R code first splits the dataset into a training set (80% of the data) and a test set (20% of the data). The multinomial logistic regression model is then trained exclusively on the training data. To evaluate its ability to generalize to new data, the model's predictions are compared to the actual species in the test set, and the overall accuracy is calculated. In this case, the model achieves a high accuracy of approximately 0.967, indicating that it correctly predicts the species for 96.7% of the flowers in the test set. This step utilizes the train-test split methodology and the accuracy metric, both fundamental concepts in statistical inference and machine learning, to ensure that the model is likely to perform well when applied to new, unseen data. Deployment of such a model could involve integrating it into a real-world application, such as a mobile app designed for flower identification."
      ],
      "metadata": {
        "id": "PEO7cvaMzigX"
      }
    },
    {
      "cell_type": "code",
      "source": [
        "# Install nnet if not already installed\n",
        "if (!require(nnet)) install.packages(\"nnet\")\n",
        "\n",
        "# Load Iris dataset\n",
        "set.seed(123)\n",
        "data(iris)\n",
        "\n",
        "# Split data\n",
        "train_idx <- sample(1:nrow(iris), 0.8*nrow(iris))\n",
        "train <- iris[train_idx, ]\n",
        "test <- iris[-train_idx, ]\n",
        "\n",
        "# Train multinomial logistic regression\n",
        "library(nnet)\n",
        "model <- multinom(Species ~ Petal.Length + Petal.Width, data=train)\n",
        "\n",
        "# Predict on test\n",
        "predictions <- predict(model, test, type=\"class\")\n",
        "\n",
        "# Accuracy\n",
        "accuracy <- mean(predictions == test$Species)\n",
        "print(paste(\"Accuracy:\", accuracy))"
      ],
      "metadata": {
        "id": "U0-T_oJdlgRk",
        "outputId": "30be2baa-6659-42c3-dc73-c291e72070c6",
        "colab": {
          "base_uri": "https://localhost:8080/"
        }
      },
      "execution_count": null,
      "outputs": [
        {
          "output_type": "stream",
          "name": "stdout",
          "text": [
            "# weights:  12 (6 variable)\n",
            "initial  value 131.833475 \n",
            "iter  10 value 10.207694\n",
            "iter  20 value 8.641476\n",
            "iter  30 value 8.623607\n",
            "iter  40 value 8.609503\n",
            "iter  50 value 8.602741\n",
            "iter  60 value 8.600893\n",
            "iter  70 value 8.596472\n",
            "iter  80 value 8.594230\n",
            "iter  90 value 8.593757\n",
            "iter 100 value 8.592407\n",
            "final  value 8.592407 \n",
            "stopped after 100 iterations\n",
            "[1] \"Accuracy: 0.966666666666667\"\n"
          ]
        }
      ]
    },
    {
      "cell_type": "markdown",
      "source": [
        "## Conclusion\n",
        "\n",
        "This notebook has successfully guided you through the entire Data Science Lifecycle using the R programming language and the Iris dataset, from the initial problem definition all the way to the final evaluation of a logistic regression model that achieved an impressive accuracy of approximately 96.7% in predicting Iris flower species based on their petal measurements. Throughout this comprehensive process, you have applied fundamental mathematical and statistical concepts such as mean, variance, various sampling techniques, and the log-loss function to build and rigorously test a predictive model. This solid foundational understanding will serve as an excellent stepping stone for exploring more advanced algorithms and techniques, such as linear regression, in subsequent notebooks within this series (for example, DS_102_Linear_Regression_R). We strongly encourage you to further enhance your learning by experimenting with the provided R code (for instance, by using sepal length and width as alternative predictor variables) and by exploring the wealth of additional resources available in the associated GitHub repository. Congratulations on successfully completing the data science lifecycle!"
      ],
      "metadata": {
        "id": "coNNn8Bfzk80"
      }
    }
  ]
}