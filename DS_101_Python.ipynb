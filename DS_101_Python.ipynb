{
  "nbformat": 4,
  "nbformat_minor": 0,
  "metadata": {
    "colab": {
      "provenance": [],
      "authorship_tag": "ABX9TyNAUkdGfBLm9B5JM1utMnMO",
      "include_colab_link": true
    },
    "kernelspec": {
      "name": "python3",
      "display_name": "Python 3"
    },
    "language_info": {
      "name": "python"
    }
  },
  "cells": [
    {
      "cell_type": "markdown",
      "metadata": {
        "id": "view-in-github",
        "colab_type": "text"
      },
      "source": [
        "<a href=\"https://colab.research.google.com/github/mahlodi-makobe/Data_Science_101/blob/Python-Notebooks/DS_101_Python.ipynb\" target=\"_parent\"><img src=\"https://colab.research.google.com/assets/colab-badge.svg\" alt=\"Open In Colab\"/></a>"
      ]
    },
    {
      "cell_type": "markdown",
      "source": [
        "# DS_101_Python: Data Science Lifecycle with Logistic Regression"
      ],
      "metadata": {
        "id": "BxPW9jNcypuU"
      }
    },
    {
      "cell_type": "markdown",
      "source": [
        "## Introduction\n",
        "\n",
        "Welcome to DS_101_Python, a beginner-friendly notebook that guides you through the complete Data Science Lifecycle using Python and the well-known Iris dataset. Our objective is to predict Iris flower species (namely setosa, versicolor, and virginica) based on their petal measurements. We will cover all six critical phases: Problem Formulation, Data Collection, Data Preprocessing, Exploratory Data Analysis (EDA), Modeling, and finally, Evaluation and Deployment. Leveraging powerful Python libraries such as pandas, scikit-learn (sklearn), matplotlib, and seaborn, this notebook is part of a broader GitHub course specifically designed for learners with a solid foundation in mathematics and statistics. By running the code cells in Google Colab, you will observe insightful outputs like scatterplots and the model's prediction accuracy. For a more comprehensive understanding of the context, please refer to the \"Data Science Lifecycle for Beginners\" document. Let's embark on this journey through the data science lifecycle!"
      ],
      "metadata": {
        "id": "5A51EixWym9J"
      }
    },
    {
      "cell_type": "markdown",
      "source": [
        "## Phase 1: Problem Formulation\n",
        "\n",
        "In the Problem Formulation phase, we clearly articulate our central question: Is it possible to accurately predict the species of an Iris flower using only its petal length and width? To gain initial insights, the code calculates the mean and variance of petal length for each of the three species. This analysis reveals distinct statistical patterns; for instance, setosa flowers exhibit an average petal length of approximately 1.46 cm, while virginica flowers have a significantly larger average of around 5.55 cm. This crucial step draws upon the principles of hypothesis testing to confirm that petal measurements serve as strong indicators for this classification task. Our primary metric for success in this endeavor will be the overall prediction accuracy of our model."
      ],
      "metadata": {
        "id": "E-GlySolyic4"
      }
    },
    {
      "cell_type": "code",
      "execution_count": null,
      "metadata": {
        "colab": {
          "base_uri": "https://localhost:8080/"
        },
        "id": "-Nh_nuQpjMRj",
        "outputId": "2e27b1dd-7d2e-4800-dea4-415c2e396de8"
      },
      "outputs": [
        {
          "output_type": "stream",
          "name": "stdout",
          "text": [
            "           petal length (cm)          \n",
            "                        mean       var\n",
            "species                               \n",
            "setosa                 1.462  0.030159\n",
            "versicolor             4.260  0.220816\n",
            "virginica              5.552  0.304588\n"
          ]
        }
      ],
      "source": [
        "import pandas as pd\n",
        "from sklearn.datasets import load_iris\n",
        "\n",
        "# Load Iris dataset\n",
        "iris = load_iris()\n",
        "df = pd.DataFrame(data=iris.data, columns=iris.feature_names)\n",
        "df['species'] = iris.target_names[iris.target]\n",
        "\n",
        "# Group by species and calculate mean/variance of petal length\n",
        "stats = df.groupby('species').agg({\n",
        "    'petal length (cm)': ['mean', 'var']\n",
        "})\n",
        "print(stats)"
      ]
    },
    {
      "cell_type": "markdown",
      "source": [
        "## Phase 2: Data Collection\n",
        "\n",
        "The Data Collection phase is dedicated to gathering representative data for our predictor variables (petal length and width) and the response variable (species). The provided code strategically samples 30 rows from the Iris dataset, ensuring an equal representation of each species (10 samples per species). This balanced sampling approach is crucial to avoid any potential bias towards a particular species in our subsequent analysis and modeling. This step effectively applies the techniques of random and stratified sampling, concepts well-established in basic probability theory, to construct a fair and representative dataset suitable for further exploration and model training."
      ],
      "metadata": {
        "id": "uSOawFq_yfFa"
      }
    },
    {
      "cell_type": "code",
      "source": [
        "import pandas as pd\n",
        "from sklearn.datasets import load_iris\n",
        "\n",
        "# Load Iris dataset\n",
        "iris = load_iris()\n",
        "df = pd.DataFrame(data=iris.data, columns=iris.feature_names)\n",
        "df['species'] = iris.target_names[iris.target]\n",
        "\n",
        "# Randomly sample 10 rows per species\n",
        "sample_data = df.groupby('species').apply(lambda x: x.sample(n=10, random_state=123)).reset_index(drop=True)\n",
        "print(sample_data.head())"
      ],
      "metadata": {
        "colab": {
          "base_uri": "https://localhost:8080/"
        },
        "id": "NbyxWFF7kZmP",
        "outputId": "07ddfc70-42e5-4379-91d2-136a7f8a5104"
      },
      "execution_count": null,
      "outputs": [
        {
          "output_type": "stream",
          "name": "stdout",
          "text": [
            "   sepal length (cm)  sepal width (cm)  petal length (cm)  petal width (cm)  \\\n",
            "0                5.4               3.7                1.5               0.2   \n",
            "1                4.3               3.0                1.1               0.1   \n",
            "2                4.8               3.1                1.6               0.2   \n",
            "3                5.1               3.8                1.6               0.2   \n",
            "4                5.7               3.8                1.7               0.3   \n",
            "\n",
            "  species  \n",
            "0  setosa  \n",
            "1  setosa  \n",
            "2  setosa  \n",
            "3  setosa  \n",
            "4  setosa  \n"
          ]
        },
        {
          "output_type": "stream",
          "name": "stderr",
          "text": [
            "<ipython-input-2-a4e623637021>:10: DeprecationWarning: DataFrameGroupBy.apply operated on the grouping columns. This behavior is deprecated, and in a future version of pandas the grouping columns will be excluded from the operation. Either pass `include_groups=False` to exclude the groupings or explicitly select the grouping columns after groupby to silence this warning.\n",
            "  sample_data = df.groupby('species').apply(lambda x: x.sample(n=10, random_state=123)).reset_index(drop=True)\n"
          ]
        }
      ]
    },
    {
      "cell_type": "markdown",
      "source": [
        "## Phase 3: Data Preprocessing\n",
        "\n",
        "The Data Preprocessing phase focuses on cleaning and preparing the collected data to ensure its suitability for analysis and modeling. The code addresses a simulated scenario involving a missing value in petal length by employing mean imputation, replacing the missing value with the average petal length calculated across all available samples (approximately 3.76 cm). Furthermore, to standardize the scale of our predictor variables, both petal length and width are transformed to have a mean of 0 and a variance of 1. This standardization is achieved using the formula $\\(z = \\frac{x - \\mu}{\\sigma}\\)$. By applying mean imputation and standardization, this critical phase ensures that the dataset is consistent, free from basic errors, and appropriately scaled, thereby making it ready for the subsequent modeling stage."
      ],
      "metadata": {
        "id": "fj4-XhPjycTI"
      }
    },
    {
      "cell_type": "code",
      "source": [
        "import pandas as pd\n",
        "import numpy as np\n",
        "from sklearn.datasets import load_iris\n",
        "from sklearn.preprocessing import StandardScaler\n",
        "\n",
        "# Load Iris dataset\n",
        "iris = load_iris()\n",
        "df = pd.DataFrame(data=iris.data, columns=iris.feature_names)\n",
        "df['species'] = iris.target_names[iris.target]\n",
        "\n",
        "# Simulate missing values\n",
        "np.random.seed(123)\n",
        "df.loc[np.random.choice(df.index, 10), 'petal length (cm)'] = np.nan\n",
        "\n",
        "# Impute with mean\n",
        "df['petal length (cm)'].fillna(df['petal length (cm)'].mean(), inplace=True)\n",
        "\n",
        "# Standardize petal length and width\n",
        "scaler = StandardScaler()\n",
        "df[['petal length (cm)', 'petal width (cm)']] = scaler.fit_transform(df[['petal length (cm)', 'petal width (cm)']])\n",
        "\n",
        "print(df.head())"
      ],
      "metadata": {
        "colab": {
          "base_uri": "https://localhost:8080/"
        },
        "id": "Z1U26cW9kiqa",
        "outputId": "f63ac1cd-46ef-43c5-fabe-514e5ca00882"
      },
      "execution_count": null,
      "outputs": [
        {
          "output_type": "stream",
          "name": "stdout",
          "text": [
            "   sepal length (cm)  sepal width (cm)  petal length (cm)  petal width (cm)  \\\n",
            "0                5.1               3.5          -1.348670         -1.315444   \n",
            "1                4.9               3.0          -1.348670         -1.315444   \n",
            "2                4.7               3.2          -1.406607         -1.315444   \n",
            "3                4.6               3.1          -1.290734         -1.315444   \n",
            "4                5.0               3.6          -1.348670         -1.315444   \n",
            "\n",
            "  species  \n",
            "0  setosa  \n",
            "1  setosa  \n",
            "2  setosa  \n",
            "3  setosa  \n",
            "4  setosa  \n"
          ]
        },
        {
          "output_type": "stream",
          "name": "stderr",
          "text": [
            "<ipython-input-3-4452dfef0dfc>:16: FutureWarning: A value is trying to be set on a copy of a DataFrame or Series through chained assignment using an inplace method.\n",
            "The behavior will change in pandas 3.0. This inplace method will never work because the intermediate object on which we are setting values always behaves as a copy.\n",
            "\n",
            "For example, when doing 'df[col].method(value, inplace=True)', try using 'df.method({col: value}, inplace=True)' or df[col] = df[col].method(value) instead, to perform the operation inplace on the original object.\n",
            "\n",
            "\n",
            "  df['petal length (cm)'].fillna(df['petal length (cm)'].mean(), inplace=True)\n"
          ]
        }
      ]
    },
    {
      "cell_type": "markdown",
      "source": [
        "## Phase 4: Exploratory Data Analysis (EDA)\n",
        "\n",
        "Exploratory Data Analysis (EDA) involves the visual exploration and summarization of the dataset to uncover inherent patterns and relationships between the variables. The code generates a scatterplot that displays petal length on one axis and petal width on the other, with each data point colored according to its corresponding Iris species. This visual representation clearly reveals distinct clusters of data points for each species (for example, setosa flowers are characterized by smaller petal dimensions). This step leverages descriptive statistics and correlation analysis to further validate the initial hypothesis that petal measurements can effectively differentiate between the Iris species, providing valuable visual evidence that supports the choice of these predictors for our classification task."
      ],
      "metadata": {
        "id": "JDSYanEXyZf-"
      }
    },
    {
      "cell_type": "code",
      "source": [
        "import matplotlib.pyplot as plt\n",
        "import seaborn as sns\n",
        "from sklearn.datasets import load_iris\n",
        "import pandas as pd\n",
        "\n",
        "# Load Iris dataset\n",
        "iris = load_iris()\n",
        "df = pd.DataFrame(data=iris.data, columns=iris.feature_names)\n",
        "df['species'] = iris.target_names[iris.target]\n",
        "\n",
        "# Scatterplot\n",
        "sns.scatterplot(x='petal length (cm)', y='petal width (cm)', hue='species', data=df)\n",
        "plt.title('Petal Length vs. Width by Species')\n",
        "plt.show()"
      ],
      "metadata": {
        "colab": {
          "base_uri": "https://localhost:8080/",
          "height": 472
        },
        "id": "tIuzT5T8k0O1",
        "outputId": "5ea3008a-b3a4-479a-a137-245c47fcfbf4"
      },
      "execution_count": null,
      "outputs": [
        {
          "output_type": "display_data",
          "data": {
            "text/plain": [
              "<Figure size 640x480 with 1 Axes>"
            ],
            "image/png": "[encoded data removed]"
          },
          "metadata": {}
        }
      ]
    },
    {
      "cell_type": "markdown",
      "source": [
        "## Phase 5: Modeling\n",
        "\n",
        "The Modeling phase involves training a machine learning algorithm to learn the relationship between the petal measurements and the Iris species, enabling it to predict the species of new, unseen flowers. The code utilizes scikit-learn's `LogisticRegression` class to train a multinomial logistic regression model. This model is trained on the petal length and width features to predict the probabilities of a given flower belonging to each of the three species. The output demonstrates the model's predictions, showing high confidence scores for certain samples (e.g., a probability of approximately 0.9798 for the first sample belonging to a specific species). The logistic regression algorithm achieves this by employing optimization techniques that aim to minimize the log-loss function, a concept deeply rooted in probability theory and information theory."
      ],
      "metadata": {
        "id": "gCZa8m9TyV4p"
      }
    },
    {
      "cell_type": "code",
      "source": [
        "from sklearn.datasets import load_iris\n",
        "from sklearn.linear_model import LogisticRegression\n",
        "import pandas as pd\n",
        "\n",
        "# Load Iris dataset\n",
        "iris = load_iris()\n",
        "df = pd.DataFrame(data=iris.data, columns=iris.feature_names)\n",
        "df['species'] = iris.target\n",
        "\n",
        "# Use petal length and width\n",
        "X = df[['petal length (cm)', 'petal width (cm)']]\n",
        "y = df['species']\n",
        "\n",
        "# Train logistic regression\n",
        "model = LogisticRegression(solver='lbfgs')\n",
        "model.fit(X, y)\n",
        "\n",
        "# Predict probabilities\n",
        "predictions = model.predict_proba(X)\n",
        "print(predictions[:5])"
      ],
      "metadata": {
        "colab": {
          "base_uri": "https://localhost:8080/"
        },
        "id": "RZdwTb6HmG5P",
        "outputId": "fc51c26c-01e4-4320-ce46-4212daf46ba5"
      },
      "execution_count": null,
      "outputs": [
        {
          "output_type": "stream",
          "name": "stdout",
          "text": [
            "[[9.79813976e-01 2.01859922e-02 3.16482113e-08]\n",
            " [9.79813976e-01 2.01859922e-02 3.16482113e-08]\n",
            " [9.84715309e-01 1.52846724e-02 1.85136327e-08]\n",
            " [9.73383416e-01 2.66165302e-02 5.40149611e-08]\n",
            " [9.79813976e-01 2.01859922e-02 3.16482113e-08]]\n"
          ]
        }
      ]
    },
    {
      "cell_type": "markdown",
      "source": [
        "## Phase 6: Evaluation and Deployment\n",
        "\n",
        "The Evaluation and Deployment phase focuses on assessing the trained model's performance on unseen data and considering its potential real-world application. The code first splits the dataset into a training set (80% of the data) and a test set (20% of the data). The logistic regression model is then trained exclusively on the training data. To evaluate its generalization ability, the model's predictions are compared to the actual species in the test set, and the overall accuracy is calculated. In this case, the model achieves an accuracy of approximately 0.933, indicating that it correctly predicts the species for 93.3% of the flowers in the test set. This step utilizes the train-test split methodology and the accuracy metric, both fundamental concepts in statistical inference and machine learning, to ensure that the model is likely to perform well on new, unseen data. Deployment would involve integrating this trained model into a real-world application, such as a mobile app for flower identification."
      ],
      "metadata": {
        "id": "p-3PfVEZyTaK"
      }
    },
    {
      "cell_type": "code",
      "source": [
        "from sklearn.datasets import load_iris\n",
        "from sklearn.linear_model import LogisticRegression\n",
        "from sklearn.model_selection import train_test_split\n",
        "from sklearn.metrics import accuracy_score\n",
        "\n",
        "# Load Iris dataset\n",
        "iris = load_iris()\n",
        "X = iris.data[:, [2, 3]] # Petal length, width\n",
        "y = iris.target\n",
        "\n",
        "# Train-test split\n",
        "X_train, X_test, y_train, y_test = train_test_split(X, y, test_size=0.2, random_state=123)\n",
        "\n",
        "# Train model\n",
        "model = LogisticRegression(solver='lbfgs')\n",
        "model.fit(X_train, y_train)\n",
        "\n",
        "# Predict and evaluate\n",
        "y_pred = model.predict(X_test)\n",
        "accuracy = accuracy_score(y_test, y_pred)\n",
        "print(f\"Accuracy: {accuracy}\")"
      ],
      "metadata": {
        "colab": {
          "base_uri": "https://localhost:8080/"
        },
        "id": "ngxm0nJPmLlq",
        "outputId": "497ec401-63b2-487a-c40c-d1215f58f16f"
      },
      "execution_count": null,
      "outputs": [
        {
          "output_type": "stream",
          "name": "stdout",
          "text": [
            "Accuracy: 0.9333333333333333\n"
          ]
        }
      ]
    },
    {
      "cell_type": "markdown",
      "source": [
        "## Conclusion\n",
        "\n",
        "This notebook has successfully guided you through the entire Data Science Lifecycle, from the initial problem definition to the final evaluation of a logistic regression model that achieved an accuracy of approximately 93.3% in predicting Iris flower species based on their petal measurements. Throughout this journey, you have applied fundamental mathematical and statistical concepts such as mean, variance, sampling techniques, and the log-loss function to build and rigorously test a predictive model. This foundational understanding will serve as a strong stepping stone for exploring more advanced algorithms, such as linear regression, in subsequent notebooks like DS_102_Linear_Regression_Python. We encourage you to further your learning by experimenting with the code (for instance, by using sepal length and width as alternative predictors) and by exploring the additional resources available in the associated GitHub repository. Congratulations on completing the data science lifecycle!"
      ],
      "metadata": {
        "id": "EsAkmn2jyOxn"
      }
    }
  ]
}